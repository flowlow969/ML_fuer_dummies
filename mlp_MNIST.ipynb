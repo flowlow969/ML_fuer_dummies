{
 "cells": [
  {
   "cell_type": "markdown",
   "metadata": {},
   "source": [
    "# ANN Intro\n",
    "\n",
    "This NB is constructed such that it also runs in reasonable time on Laptop CPUs (e.g. an i3)"
   ]
  },
  {
   "cell_type": "markdown",
   "metadata": {},
   "source": [
    "## Local Setup\n",
    "\n",
    "There are different options to set up the TensorFlow library (which now includes [Keras](https://keras.io) as backend library) on your own computer. The simplest of them is using only the CPU and can be installed in 1 command via [`conda`](https://docs.anaconda.com/anaconda/user-guide/tasks/tensorflow/), in an anaconda shell run:\n",
    "\n",
    "```\n",
    "conda install tensorflow\n",
    "```\n",
    "\n",
    "**NOTE**: TF migth not be compatible with your current environment, so here we create a [new environment](https://conda.io/docs/user-guide/tasks/manage-environments.html#creating-an-environment-with-commands) first:\n",
    "\n",
    "```\n",
    "conda create -n tf tensorflow\n",
    "conda activate tf\n",
    "```\n",
    "\n",
    "In that case you need to install jupyter, scikit-learn, matplotlib, numpy and pandas in that environment again, with e.g.:\n",
    "\n",
    "```\n",
    "conda install jupyter scikit-learn matplotlib numpy pandas\n",
    "```\n",
    "\n",
    "(If you have a [supported Nvidia graphics card](https://developer.nvidia.com/cuda-gpus) in your machine and would like to use it for accelerated network training, make sure to follow [this guide](https://www.tensorflow.org/install/gpu) to install required packages and finally use the `tensorflow-gpu` library.)\n",
    "\n",
    "The usage of the TensorFlow library in Python will be the same for CPU and GPU."
   ]
  },
  {
   "cell_type": "code",
   "execution_count": 1,
   "metadata": {},
   "outputs": [
    {
     "data": {
      "text/plain": [
       "dict_keys(['data', 'target', 'frame', 'categories', 'feature_names', 'target_names', 'DESCR', 'details', 'url'])"
      ]
     },
     "execution_count": 1,
     "metadata": {},
     "output_type": "execute_result"
    }
   ],
   "source": [
    "from sklearn.datasets import fetch_openml\n",
    "mnist = fetch_openml('mnist_784', version=1)\n",
    "mnist.keys()\n"
   ]
  },
  {
   "cell_type": "code",
   "execution_count": 2,
   "metadata": {},
   "outputs": [
    {
     "data": {
      "text/plain": [
       "(70000, 784)"
      ]
     },
     "execution_count": 2,
     "metadata": {},
     "output_type": "execute_result"
    }
   ],
   "source": [
    "## Scale the input data into the range [0, 1]\n",
    "X= mnist.data\n",
    "X= X / 255.0\n",
    "y= mnist.target\n",
    "## use sklearn's train_test_split to split the data into \n",
    "## 50000 instances for training (X_train, y_train), 10000 for validation (X_val, y_val) and 10000 for testing (X_test, y_test)\n",
    "from sklearn.model_selection import train_test_split\n",
    "test_val_size = 2/7\n",
    "test_size = 1/2\n",
    "X_train, X_test_val, y_train, y_test_val = train_test_split(X, y, test_size=test_val_size, random_state=42)\n",
    "X_val, X_test, y_val, y_test = train_test_split(X_test_val, y_test_val, test_size=test_size, random_state=42)\n",
    "\n",
    "X.shape"
   ]
  },
  {
   "cell_type": "code",
   "execution_count": 3,
   "metadata": {},
   "outputs": [
    {
     "data": {
      "text/plain": [
       "'Number of Layers: 3, Number of Hidenlayers: 1, Number of output neurons: 10'"
      ]
     },
     "execution_count": 3,
     "metadata": {},
     "output_type": "execute_result"
    }
   ],
   "source": [
    "## load an MLP classifier from sklearn with all its defaults, only specifying `random_state=42`\n",
    "from sklearn.neural_network import MLPClassifier\n",
    "clf = MLPClassifier(random_state=42).fit(X_train, y_train)\n",
    "clf.predict_proba(X_test[:1])\n",
    "\n",
    "\n",
    "\n",
    "\n",
    "\n",
    "## try printing out the sizes of the hidden layers, the number of layers and the number of output neurons/units\n",
    "(\"Number of Layers: \" + str(clf.n_layers_) + \", Number of Hidenlayers: \" + str(clf.n_layers_-2) + \", Number of output neurons: \" + str(clf.n_outputs_))\n",
    "## train the MLP with the train set, time its execution\n",
    "\n",
    "## try again printing out the sizes of the hidden layers, the number of layers and the number of output neurons/units\n"
   ]
  },
  {
   "cell_type": "code",
   "execution_count": 4,
   "metadata": {},
   "outputs": [
    {
     "name": "stdout",
     "output_type": "stream",
     "text": [
      "Training set score: 1.000000\n",
      "Test set score: 0.976100\n"
     ]
    }
   ],
   "source": [
    "\n",
    "## print the scores of the trained MLP on the train and on the test set:\n",
    "print(\"Training set score: %f\" % clf.score(X_train, y_train) )\n",
    "print(\"Test set score: %f\" % clf.score(X_test, y_test))"
   ]
  },
  {
   "cell_type": "markdown",
   "metadata": {},
   "source": [
    "### Questions 1\n",
    "\n",
    "1. What are the default values assumed for the MLPClassifier of sklearn?\n",
    "2. What MLP is constructed with the defaults? \\\n",
    "   I.e. how many hidden layers and how many input, hidden and output neurons/units does the MLP have?\n",
    "\n",
    "### Answers\n",
    "\n",
    "1. \n",
    "    - hidden_layer_sizestuple, length = n_layers - 2, default=(100,)\n",
    "    - len(clf.coefs_)\n",
    "    - solver{‘lbfgs’, ‘sgd’, ‘adam’}, default=’adam’\n",
    "    - alphafloat, default=0.0001\n",
    "    - batch_sizeint, default=’auto’\n",
    "    - learning_rate{‘constant’, ‘invscaling’, ‘adaptive’}, default=’constant’\n",
    "    - learning_rate_initdouble, default=0.001\n",
    "    - power_tdouble, default=0.5\n",
    "    - max_iterint, default=200\n",
    "    - shufflebool, default=True\n",
    "    - random_stateint, RandomState instance, default=None\n",
    "    - tolfloat, default=1e-4verbosebool, default=False\n",
    "    - momentumfloat, default=0.9\n",
    "    - early_stoppingbool, default=False\n",
    "    - validation_fractionfloat, default=0.1\n",
    "    - beta_1float, default=0.9\n",
    "    - beta_2float, default=0.999\n",
    "    - epsilonfloat, default=1e-8\n",
    "    - n_iter_no_changeint, default=10\n",
    "    - max_funint, default=15000\n",
    "2. A default MLP in sklearn conisist:\n",
    "   - 1 Inputlayer (size depents on input)\n",
    "   - 1 Hidenlayer (size 100)\n",
    "   - 1 Outputlayer (size depents on the input)\n",
    "   \n",
    "   "
   ]
  },
  {
   "cell_type": "code",
   "execution_count": 16,
   "metadata": {
    "scrolled": true
   },
   "outputs": [
    {
     "name": "stdout",
     "output_type": "stream",
     "text": [
      "Number of Layers: 4, Number of Hidenlayers: 2, Number of output neurons: 10\n"
     ]
    },
    {
     "data": {
      "text/plain": [
       "array([[8.59856198e-14, 1.77106890e-15, 2.83380745e-13, 1.77307736e-16,\n",
       "        2.59506297e-16, 3.00159860e-10, 5.28521229e-19, 8.29700347e-14,\n",
       "        1.00000000e+00, 1.09165300e-16]])"
      ]
     },
     "execution_count": 16,
     "metadata": {},
     "output_type": "execute_result"
    }
   ],
   "source": [
    "## Now construct another MLP classifier as above but with 2 hidden layers of 100 and 50 neurons/units.\n",
    "## In addition it should used mini-batch gradient descent (mBGD) with a mini-batch size of 100\n",
    "## and train only for 100 epochs.\n",
    "## Read the docs carefully to figure out what you need to specify!\n",
    "clf = MLPClassifier(hidden_layer_sizes=(100, 50),random_state=42, batch_size=min(100,50000),max_iter=100)\n",
    "\n",
    "## try printing out the sizes of the hidden layers, the number of layers and the number of output neurons/units\n",
    "## train the MLP with the train set, time its execution\n",
    "clf = clf.fit(X_train, y_train)\n",
    "## try again printing out the sizes of the hidden layers, the number of layers and the number of output neurons/units\n",
    "print(\"Number of Layers: \" + str(clf.n_layers_) + \", Number of Hidenlayers: \" + str(clf.n_layers_-2) + \", Number of output neurons: \" + str(clf.n_outputs_))\n",
    "clf.predict_proba(X_test[:1])"
   ]
  },
  {
   "cell_type": "code",
   "execution_count": 6,
   "metadata": {},
   "outputs": [
    {
     "name": "stdout",
     "output_type": "stream",
     "text": [
      "Training set score: 1.000000\n",
      "Test set score: 0.978200\n"
     ]
    }
   ],
   "source": [
    "## print the scores of the trained MLP on the train and on the test set:\n",
    "print(\"Training set score: %f\" % clf.score(X_train, y_train) )\n",
    "print(\"Test set score: %f\" % clf.score(X_test, y_test))"
   ]
  },
  {
   "cell_type": "code",
   "execution_count": 7,
   "metadata": {},
   "outputs": [
    {
     "data": {
      "text/plain": [
       "84060"
      ]
     },
     "execution_count": 7,
     "metadata": {},
     "output_type": "execute_result"
    }
   ],
   "source": [
    "def n_params(model): # from: https://stackoverflow.com/questions/59078110/way-to-count-the-number-of-parameters-in-a-scikit-learn-model\n",
    "    \"\"\"Return total number of parameters in a \n",
    "    Scikit-Learn model.\n",
    "\n",
    "    This works for the following model types:\n",
    "     - sklearn.neural_network.MLPClassifier\n",
    "     - sklearn.neural_network.MLPRegressor\n",
    "     - sklearn.linear_model.LinearRegression\n",
    "     - and maybe some others\n",
    "    \"\"\"\n",
    "    return (sum([a.size for a in model.coefs_]) +  \n",
    "            sum([a.size for a in model.intercepts_]))\n",
    "\n",
    "## use the given function to get the number of model parameters of the last MLP\n",
    "n_params(clf)\n"
   ]
  },
  {
   "cell_type": "markdown",
   "metadata": {},
   "source": [
    "### Questions 2\n",
    "\n",
    "1. Does the returned number of parameters match your expectations? Write down your own calculation!\n",
    "\n",
    "\n",
    "### Answers\n",
    "\n",
    "1. \n",
    "   - Inputlayer  784 neuronen\n",
    "   - Hidenlayer1 100 neuronen\n",
    "   - Hidenlayer2  50 neuronen\n",
    "   - Outputlayer  10 neuronen\n",
    "   \n",
    "   n_params = Inputlayer * Hidenlayer1 + Hidenlayer1 * Hidenlayer2 + Hidenlayer2 * Outputlayer + Hidenlayer1 + Hidenlayer2 + Outputlayer\n",
    "   \n",
    "   n_params = 784 * 100 + 100 * 50 + 50 * 10 + 100 + 50 + 10 = 84060\n",
    "   "
   ]
  },
  {
   "cell_type": "code",
   "execution_count": 8,
   "metadata": {},
   "outputs": [
    {
     "name": "stdout",
     "output_type": "stream",
     "text": [
      "Training set score: 1.000000\n",
      "Test set score: 0.978200\n"
     ]
    },
    {
     "data": {
      "image/png": "[encoded data removed]",
      "text/plain": [
       "<Figure size 432x288 with 16 Axes>"
      ]
     },
     "metadata": {},
     "output_type": "display_data"
    }
   ],
   "source": [
    "## Now use the example from: https://scikit-learn.org/stable/auto_examples/neural_networks/plot_mnist_filters.html\n",
    "## to plot ALL weight matrices of the first layer of the MLP trained above\n",
    "## using subplots with 20 columns.\n",
    "import warnings\n",
    "from sklearn.exceptions import ConvergenceWarning\n",
    "import matplotlib.pyplot as plt\n",
    "\n",
    "with warnings.catch_warnings():\n",
    "    warnings.filterwarnings(\"ignore\", category=ConvergenceWarning, module=\"sklearn\")\n",
    "    clf.fit(X_train, y_train)\n",
    "\n",
    "print(\"Training set score: %f\" % clf.score(X_train, y_train))\n",
    "print(\"Test set score: %f\" % clf.score(X_test, y_test))\n",
    "\n",
    "fig, axes = plt.subplots(4, 4)\n",
    "# use global min / max to ensure all weights are shown on the same scale\n",
    "vmin, vmax = clf.coefs_[0].min(), clf.coefs_[0].max()\n",
    "for coef, ax in zip(clf.coefs_[0].T, axes.ravel()):\n",
    "    ax.matshow(coef.reshape(28, 28), cmap=plt.cm.gray, vmin=0.5 * vmin, vmax=0.5 * vmax)\n",
    "    ax.set_xticks(())\n",
    "    ax.set_yticks(())\n",
    "\n",
    "plt.show()"
   ]
  },
  {
   "cell_type": "markdown",
   "metadata": {},
   "source": [
    "Now it's time to test your TensorFlow installation by importing the package. The following code cell should execute without errors:"
   ]
  },
  {
   "cell_type": "code",
   "execution_count": 9,
   "metadata": {},
   "outputs": [],
   "source": [
    "import tensorflow as tf"
   ]
  },
  {
   "cell_type": "markdown",
   "metadata": {},
   "source": [
    "Now let's check which computing devices TensorFlow has found on this machine. If you don't have the GPU setup on your computer, the list should just contain one CPU: `/device:CPU:0` "
   ]
  },
  {
   "cell_type": "code",
   "execution_count": 10,
   "metadata": {},
   "outputs": [
    {
     "name": "stdout",
     "output_type": "stream",
     "text": [
      "[name: \"/device:CPU:0\"\n",
      "device_type: \"CPU\"\n",
      "memory_limit: 268435456\n",
      "locality {\n",
      "}\n",
      "incarnation: 1104753046965504132\n",
      "xla_global_id: -1\n",
      "]\n"
     ]
    },
    {
     "name": "stderr",
     "output_type": "stream",
     "text": [
      "2022-01-03 16:50:38.024266: I tensorflow/core/platform/cpu_feature_guard.cc:151] This TensorFlow binary is optimized with oneAPI Deep Neural Network Library (oneDNN) to use the following CPU instructions in performance-critical operations:  AVX2 FMA\n",
      "To enable them in other operations, rebuild TensorFlow with the appropriate compiler flags.\n"
     ]
    }
   ],
   "source": [
    "from tensorflow.python.client import device_lib\n",
    "print(device_lib.list_local_devices())"
   ]
  },
  {
   "cell_type": "markdown",
   "metadata": {},
   "source": [
    "The cell below creates a similar MLP as above using tf.keras, see also this [tutorial network](https://github.com/keras-team/keras/blob/fcc0bfa354c5a47625d681d0297a66ef9ff43a9e/examples/mnist_mlp.py) which also uses the MNIST dataset.\n",
    "\n",
    "Keras has a nice method `model.summary()` that prints a tabular overview of your network architecture, together with the input/output dimensions and number of parameters for each layer."
   ]
  },
  {
   "cell_type": "code",
   "execution_count": 11,
   "metadata": {},
   "outputs": [
    {
     "name": "stdout",
     "output_type": "stream",
     "text": [
      "2.7.0\n",
      "2.7.0\n",
      "50000 train samples\n",
      "10000 test samples\n",
      "Model: \"sequential\"\n",
      "_________________________________________________________________\n",
      " Layer (type)                Output Shape              Param #   \n",
      "=================================================================\n",
      " dense (Dense)               (None, 200)               157000    \n",
      "                                                                 \n",
      " dense_1 (Dense)             (None, 50)                10050     \n",
      "                                                                 \n",
      " dense_2 (Dense)             (None, 10)                510       \n",
      "                                                                 \n",
      "=================================================================\n",
      "Total params: 167,560\n",
      "Trainable params: 167,560\n",
      "Non-trainable params: 0\n",
      "_________________________________________________________________\n",
      "Epoch 1/100\n",
      "500/500 [==============================] - 1s 2ms/step - loss: 0.3230 - accuracy: 0.9080 - val_loss: 0.1650 - val_accuracy: 0.9516\n",
      "Epoch 2/100\n",
      "500/500 [==============================] - 1s 2ms/step - loss: 0.1302 - accuracy: 0.9621 - val_loss: 0.1185 - val_accuracy: 0.9643\n",
      "Epoch 3/100\n",
      "500/500 [==============================] - 1s 2ms/step - loss: 0.0869 - accuracy: 0.9744 - val_loss: 0.1050 - val_accuracy: 0.9698\n",
      "Epoch 4/100\n",
      "500/500 [==============================] - 1s 2ms/step - loss: 0.0630 - accuracy: 0.9811 - val_loss: 0.0978 - val_accuracy: 0.9721\n",
      "Epoch 5/100\n",
      "500/500 [==============================] - 1s 2ms/step - loss: 0.0471 - accuracy: 0.9857 - val_loss: 0.1041 - val_accuracy: 0.9689\n",
      "Epoch 6/100\n",
      "500/500 [==============================] - 1s 2ms/step - loss: 0.0362 - accuracy: 0.9894 - val_loss: 0.0959 - val_accuracy: 0.9712\n",
      "Epoch 7/100\n",
      "500/500 [==============================] - 1s 2ms/step - loss: 0.0289 - accuracy: 0.9913 - val_loss: 0.0843 - val_accuracy: 0.9761\n",
      "Epoch 8/100\n",
      "500/500 [==============================] - 1s 2ms/step - loss: 0.0232 - accuracy: 0.9927 - val_loss: 0.0878 - val_accuracy: 0.9764\n",
      "Epoch 9/100\n",
      "500/500 [==============================] - 1s 2ms/step - loss: 0.0176 - accuracy: 0.9950 - val_loss: 0.0879 - val_accuracy: 0.9768\n",
      "Epoch 10/100\n",
      "500/500 [==============================] - 1s 2ms/step - loss: 0.0153 - accuracy: 0.9953 - val_loss: 0.0939 - val_accuracy: 0.9755\n",
      "Epoch 11/100\n",
      "500/500 [==============================] - 1s 2ms/step - loss: 0.0148 - accuracy: 0.9955 - val_loss: 0.0885 - val_accuracy: 0.9765\n",
      "Epoch 12/100\n",
      "500/500 [==============================] - 1s 2ms/step - loss: 0.0107 - accuracy: 0.9968 - val_loss: 0.0993 - val_accuracy: 0.9782\n",
      "Epoch 13/100\n",
      "500/500 [==============================] - 1s 2ms/step - loss: 0.0123 - accuracy: 0.9962 - val_loss: 0.1008 - val_accuracy: 0.9756\n",
      "Epoch 14/100\n",
      "500/500 [==============================] - 1s 2ms/step - loss: 0.0132 - accuracy: 0.9955 - val_loss: 0.1080 - val_accuracy: 0.9753\n",
      "Epoch 15/100\n",
      "500/500 [==============================] - 1s 2ms/step - loss: 0.0065 - accuracy: 0.9982 - val_loss: 0.1014 - val_accuracy: 0.9769\n",
      "Epoch 16/100\n",
      "500/500 [==============================] - 1s 2ms/step - loss: 0.0103 - accuracy: 0.9966 - val_loss: 0.1046 - val_accuracy: 0.9764\n",
      "Epoch 17/100\n",
      "500/500 [==============================] - 1s 2ms/step - loss: 0.0068 - accuracy: 0.9978 - val_loss: 0.1132 - val_accuracy: 0.9762\n",
      "Epoch 18/100\n",
      "500/500 [==============================] - 1s 2ms/step - loss: 0.0072 - accuracy: 0.9975 - val_loss: 0.1166 - val_accuracy: 0.9750\n",
      "Epoch 19/100\n",
      "500/500 [==============================] - 1s 2ms/step - loss: 0.0071 - accuracy: 0.9976 - val_loss: 0.1226 - val_accuracy: 0.9745\n",
      "Epoch 20/100\n",
      "500/500 [==============================] - 1s 2ms/step - loss: 0.0077 - accuracy: 0.9974 - val_loss: 0.1182 - val_accuracy: 0.9775\n",
      "Epoch 21/100\n",
      "500/500 [==============================] - 1s 2ms/step - loss: 0.0057 - accuracy: 0.9981 - val_loss: 0.1175 - val_accuracy: 0.9770\n",
      "Epoch 22/100\n",
      "500/500 [==============================] - 1s 2ms/step - loss: 0.0064 - accuracy: 0.9981 - val_loss: 0.1298 - val_accuracy: 0.9752\n",
      "Epoch 23/100\n",
      "500/500 [==============================] - 1s 2ms/step - loss: 0.0074 - accuracy: 0.9977 - val_loss: 0.1164 - val_accuracy: 0.9769\n",
      "Epoch 24/100\n",
      "500/500 [==============================] - 1s 2ms/step - loss: 0.0087 - accuracy: 0.9972 - val_loss: 0.1248 - val_accuracy: 0.9771\n",
      "Epoch 25/100\n",
      "500/500 [==============================] - 1s 2ms/step - loss: 0.0042 - accuracy: 0.9985 - val_loss: 0.1355 - val_accuracy: 0.9770\n",
      "Epoch 26/100\n",
      "500/500 [==============================] - 1s 2ms/step - loss: 0.0032 - accuracy: 0.9991 - val_loss: 0.1333 - val_accuracy: 0.9768\n",
      "Epoch 27/100\n",
      "500/500 [==============================] - 1s 2ms/step - loss: 0.0045 - accuracy: 0.9984 - val_loss: 0.1491 - val_accuracy: 0.9751\n",
      "Epoch 28/100\n",
      "500/500 [==============================] - 1s 2ms/step - loss: 0.0087 - accuracy: 0.9970 - val_loss: 0.1258 - val_accuracy: 0.9782\n",
      "Epoch 29/100\n",
      "500/500 [==============================] - 1s 2ms/step - loss: 0.0068 - accuracy: 0.9976 - val_loss: 0.1428 - val_accuracy: 0.9768\n",
      "Epoch 30/100\n",
      "500/500 [==============================] - 1s 2ms/step - loss: 0.0035 - accuracy: 0.9987 - val_loss: 0.1378 - val_accuracy: 0.9785\n",
      "Epoch 31/100\n",
      "500/500 [==============================] - 1s 2ms/step - loss: 0.0034 - accuracy: 0.9988 - val_loss: 0.1588 - val_accuracy: 0.9741\n",
      "Epoch 32/100\n",
      "500/500 [==============================] - 1s 2ms/step - loss: 0.0055 - accuracy: 0.9982 - val_loss: 0.1340 - val_accuracy: 0.9777\n",
      "Epoch 33/100\n",
      "500/500 [==============================] - 1s 2ms/step - loss: 8.4662e-04 - accuracy: 0.9999 - val_loss: 0.1185 - val_accuracy: 0.9809\n",
      "Epoch 34/100\n",
      "500/500 [==============================] - 1s 2ms/step - loss: 1.8783e-04 - accuracy: 1.0000 - val_loss: 0.1214 - val_accuracy: 0.9808\n",
      "Epoch 35/100\n",
      "500/500 [==============================] - 1s 2ms/step - loss: 5.6745e-05 - accuracy: 1.0000 - val_loss: 0.1201 - val_accuracy: 0.9810\n",
      "Epoch 36/100\n",
      "500/500 [==============================] - 1s 2ms/step - loss: 3.7246e-05 - accuracy: 1.0000 - val_loss: 0.1219 - val_accuracy: 0.9813\n",
      "Epoch 37/100\n",
      "500/500 [==============================] - 1s 2ms/step - loss: 2.9475e-05 - accuracy: 1.0000 - val_loss: 0.1231 - val_accuracy: 0.9813\n",
      "Epoch 38/100\n",
      "500/500 [==============================] - 1s 2ms/step - loss: 2.3889e-05 - accuracy: 1.0000 - val_loss: 0.1246 - val_accuracy: 0.9815\n",
      "Epoch 39/100\n",
      "500/500 [==============================] - 1s 2ms/step - loss: 1.9705e-05 - accuracy: 1.0000 - val_loss: 0.1261 - val_accuracy: 0.9814\n",
      "Epoch 40/100\n",
      "500/500 [==============================] - 1s 2ms/step - loss: 1.6213e-05 - accuracy: 1.0000 - val_loss: 0.1275 - val_accuracy: 0.9814\n",
      "Epoch 41/100\n",
      "500/500 [==============================] - 1s 3ms/step - loss: 1.3686e-05 - accuracy: 1.0000 - val_loss: 0.1286 - val_accuracy: 0.9816\n",
      "Epoch 42/100\n",
      "500/500 [==============================] - 1s 3ms/step - loss: 1.1358e-05 - accuracy: 1.0000 - val_loss: 0.1308 - val_accuracy: 0.9818\n",
      "Epoch 43/100\n",
      "500/500 [==============================] - 1s 3ms/step - loss: 9.5664e-06 - accuracy: 1.0000 - val_loss: 0.1325 - val_accuracy: 0.9820\n",
      "Epoch 44/100\n",
      "500/500 [==============================] - 1s 2ms/step - loss: 7.8518e-06 - accuracy: 1.0000 - val_loss: 0.1337 - val_accuracy: 0.9817\n",
      "Epoch 45/100\n",
      "500/500 [==============================] - 1s 2ms/step - loss: 6.6292e-06 - accuracy: 1.0000 - val_loss: 0.1350 - val_accuracy: 0.9820\n",
      "Epoch 46/100\n",
      "500/500 [==============================] - 1s 2ms/step - loss: 5.5871e-06 - accuracy: 1.0000 - val_loss: 0.1375 - val_accuracy: 0.9821\n",
      "Epoch 47/100\n",
      "500/500 [==============================] - 1s 2ms/step - loss: 5.1102e-06 - accuracy: 1.0000 - val_loss: 0.1369 - val_accuracy: 0.9825\n",
      "Epoch 48/100\n",
      "500/500 [==============================] - 1s 2ms/step - loss: 3.9600e-06 - accuracy: 1.0000 - val_loss: 0.1399 - val_accuracy: 0.9815\n",
      "Epoch 49/100\n",
      "500/500 [==============================] - 1s 2ms/step - loss: 0.0307 - accuracy: 0.9920 - val_loss: 0.1373 - val_accuracy: 0.9760\n",
      "Epoch 50/100\n",
      "500/500 [==============================] - 1s 2ms/step - loss: 0.0043 - accuracy: 0.9985 - val_loss: 0.1401 - val_accuracy: 0.9786\n",
      "Epoch 51/100\n"
     ]
    },
    {
     "name": "stdout",
     "output_type": "stream",
     "text": [
      "500/500 [==============================] - 1s 2ms/step - loss: 0.0024 - accuracy: 0.9992 - val_loss: 0.1352 - val_accuracy: 0.9782\n",
      "Epoch 52/100\n",
      "500/500 [==============================] - 1s 2ms/step - loss: 4.5727e-04 - accuracy: 0.9999 - val_loss: 0.1332 - val_accuracy: 0.9802\n",
      "Epoch 53/100\n",
      "500/500 [==============================] - 1s 2ms/step - loss: 8.8036e-05 - accuracy: 1.0000 - val_loss: 0.1322 - val_accuracy: 0.9803\n",
      "Epoch 54/100\n",
      "500/500 [==============================] - 1s 2ms/step - loss: 4.0030e-05 - accuracy: 1.0000 - val_loss: 0.1326 - val_accuracy: 0.9812\n",
      "Epoch 55/100\n",
      "500/500 [==============================] - 1s 2ms/step - loss: 3.0030e-05 - accuracy: 1.0000 - val_loss: 0.1336 - val_accuracy: 0.9812\n",
      "Epoch 56/100\n",
      "500/500 [==============================] - 1s 2ms/step - loss: 2.4292e-05 - accuracy: 1.0000 - val_loss: 0.1342 - val_accuracy: 0.9818\n",
      "Epoch 57/100\n",
      "500/500 [==============================] - 1s 2ms/step - loss: 1.9847e-05 - accuracy: 1.0000 - val_loss: 0.1352 - val_accuracy: 0.9815\n",
      "Epoch 58/100\n",
      "500/500 [==============================] - 1s 2ms/step - loss: 1.6364e-05 - accuracy: 1.0000 - val_loss: 0.1365 - val_accuracy: 0.9815\n",
      "Epoch 59/100\n",
      "500/500 [==============================] - 1s 2ms/step - loss: 1.3547e-05 - accuracy: 1.0000 - val_loss: 0.1374 - val_accuracy: 0.9815\n",
      "Epoch 60/100\n",
      "500/500 [==============================] - 1s 2ms/step - loss: 1.1358e-05 - accuracy: 1.0000 - val_loss: 0.1386 - val_accuracy: 0.9815\n",
      "Epoch 61/100\n",
      "500/500 [==============================] - 1s 2ms/step - loss: 9.3491e-06 - accuracy: 1.0000 - val_loss: 0.1399 - val_accuracy: 0.9815\n",
      "Epoch 62/100\n",
      "500/500 [==============================] - 1s 2ms/step - loss: 7.7188e-06 - accuracy: 1.0000 - val_loss: 0.1423 - val_accuracy: 0.9814\n",
      "Epoch 63/100\n",
      "500/500 [==============================] - 1s 2ms/step - loss: 6.3342e-06 - accuracy: 1.0000 - val_loss: 0.1429 - val_accuracy: 0.9816\n",
      "Epoch 64/100\n",
      "500/500 [==============================] - 1s 2ms/step - loss: 5.1587e-06 - accuracy: 1.0000 - val_loss: 0.1449 - val_accuracy: 0.9817\n",
      "Epoch 65/100\n",
      "500/500 [==============================] - 1s 2ms/step - loss: 4.2703e-06 - accuracy: 1.0000 - val_loss: 0.1465 - val_accuracy: 0.9815\n",
      "Epoch 66/100\n",
      "500/500 [==============================] - 1s 2ms/step - loss: 3.4762e-06 - accuracy: 1.0000 - val_loss: 0.1486 - val_accuracy: 0.9813\n",
      "Epoch 67/100\n",
      "500/500 [==============================] - 1s 2ms/step - loss: 2.8288e-06 - accuracy: 1.0000 - val_loss: 0.1504 - val_accuracy: 0.9814\n",
      "Epoch 68/100\n",
      "500/500 [==============================] - 1s 2ms/step - loss: 2.3019e-06 - accuracy: 1.0000 - val_loss: 0.1518 - val_accuracy: 0.9817\n",
      "Epoch 69/100\n",
      "500/500 [==============================] - 1s 2ms/step - loss: 1.8848e-06 - accuracy: 1.0000 - val_loss: 0.1534 - val_accuracy: 0.9817\n",
      "Epoch 70/100\n",
      "500/500 [==============================] - 1s 2ms/step - loss: 1.5346e-06 - accuracy: 1.0000 - val_loss: 0.1557 - val_accuracy: 0.9815\n",
      "Epoch 71/100\n",
      "500/500 [==============================] - 1s 2ms/step - loss: 1.2202e-06 - accuracy: 1.0000 - val_loss: 0.1583 - val_accuracy: 0.9816\n",
      "Epoch 72/100\n",
      "500/500 [==============================] - 1s 2ms/step - loss: 1.0168e-06 - accuracy: 1.0000 - val_loss: 0.1598 - val_accuracy: 0.9814\n",
      "Epoch 73/100\n",
      "500/500 [==============================] - 1s 2ms/step - loss: 8.1944e-07 - accuracy: 1.0000 - val_loss: 0.1610 - val_accuracy: 0.9819\n",
      "Epoch 74/100\n",
      "500/500 [==============================] - 1s 2ms/step - loss: 6.4193e-07 - accuracy: 1.0000 - val_loss: 0.1649 - val_accuracy: 0.9819\n",
      "Epoch 75/100\n",
      "500/500 [==============================] - 1s 2ms/step - loss: 5.1525e-07 - accuracy: 1.0000 - val_loss: 0.1656 - val_accuracy: 0.9819\n",
      "Epoch 76/100\n",
      "500/500 [==============================] - 1s 2ms/step - loss: 4.1522e-07 - accuracy: 1.0000 - val_loss: 0.1670 - val_accuracy: 0.9817\n",
      "Epoch 77/100\n",
      "500/500 [==============================] - 1s 2ms/step - loss: 3.2761e-07 - accuracy: 1.0000 - val_loss: 0.1689 - val_accuracy: 0.9821\n",
      "Epoch 78/100\n",
      "500/500 [==============================] - 1s 2ms/step - loss: 2.6001e-07 - accuracy: 1.0000 - val_loss: 0.1717 - val_accuracy: 0.9817\n",
      "Epoch 79/100\n",
      "500/500 [==============================] - 1s 2ms/step - loss: 2.0276e-07 - accuracy: 1.0000 - val_loss: 0.1736 - val_accuracy: 0.9814\n",
      "Epoch 80/100\n",
      "500/500 [==============================] - 1s 2ms/step - loss: 1.6392e-07 - accuracy: 1.0000 - val_loss: 0.1750 - val_accuracy: 0.9820\n",
      "Epoch 81/100\n",
      "500/500 [==============================] - 1s 2ms/step - loss: 1.3284e-07 - accuracy: 1.0000 - val_loss: 0.1776 - val_accuracy: 0.9818\n",
      "Epoch 82/100\n",
      "500/500 [==============================] - 1s 2ms/step - loss: 1.0477e-07 - accuracy: 1.0000 - val_loss: 0.1786 - val_accuracy: 0.9822\n",
      "Epoch 83/100\n",
      "500/500 [==============================] - 1s 2ms/step - loss: 8.1370e-08 - accuracy: 1.0000 - val_loss: 0.1822 - val_accuracy: 0.9814\n",
      "Epoch 84/100\n",
      "500/500 [==============================] - 1s 2ms/step - loss: 6.7007e-08 - accuracy: 1.0000 - val_loss: 0.1837 - val_accuracy: 0.9817\n",
      "Epoch 85/100\n",
      "500/500 [==============================] - 1s 2ms/step - loss: 5.1334e-08 - accuracy: 1.0000 - val_loss: 0.1854 - val_accuracy: 0.9822\n",
      "Epoch 86/100\n",
      "500/500 [==============================] - 1s 2ms/step - loss: 0.0066 - accuracy: 0.9990 - val_loss: 0.4095 - val_accuracy: 0.9581\n",
      "Epoch 87/100\n",
      "500/500 [==============================] - 1s 2ms/step - loss: 0.0254 - accuracy: 0.9933 - val_loss: 0.1896 - val_accuracy: 0.9758\n",
      "Epoch 88/100\n",
      "500/500 [==============================] - 1s 2ms/step - loss: 0.0053 - accuracy: 0.9983 - val_loss: 0.1905 - val_accuracy: 0.9773\n",
      "Epoch 89/100\n",
      "500/500 [==============================] - 1s 2ms/step - loss: 0.0021 - accuracy: 0.9995 - val_loss: 0.1733 - val_accuracy: 0.9789\n",
      "Epoch 90/100\n",
      "500/500 [==============================] - 1s 2ms/step - loss: 9.1818e-04 - accuracy: 0.9998 - val_loss: 0.1619 - val_accuracy: 0.9796\n",
      "Epoch 91/100\n",
      "500/500 [==============================] - 1s 2ms/step - loss: 5.4034e-05 - accuracy: 1.0000 - val_loss: 0.1622 - val_accuracy: 0.9799\n",
      "Epoch 92/100\n",
      "500/500 [==============================] - 1s 2ms/step - loss: 2.7114e-05 - accuracy: 1.0000 - val_loss: 0.1625 - val_accuracy: 0.9805\n",
      "Epoch 93/100\n",
      "500/500 [==============================] - 1s 2ms/step - loss: 1.2678e-05 - accuracy: 1.0000 - val_loss: 0.1627 - val_accuracy: 0.9803\n",
      "Epoch 94/100\n",
      "500/500 [==============================] - 1s 2ms/step - loss: 1.0037e-05 - accuracy: 1.0000 - val_loss: 0.1632 - val_accuracy: 0.9801\n",
      "Epoch 95/100\n",
      "500/500 [==============================] - 1s 2ms/step - loss: 8.1751e-06 - accuracy: 1.0000 - val_loss: 0.1637 - val_accuracy: 0.9804\n",
      "Epoch 96/100\n",
      "500/500 [==============================] - 1s 2ms/step - loss: 6.7514e-06 - accuracy: 1.0000 - val_loss: 0.1645 - val_accuracy: 0.9803\n",
      "Epoch 97/100\n",
      "500/500 [==============================] - 1s 2ms/step - loss: 5.5815e-06 - accuracy: 1.0000 - val_loss: 0.1652 - val_accuracy: 0.9806\n",
      "Epoch 98/100\n",
      "500/500 [==============================] - 1s 3ms/step - loss: 4.6520e-06 - accuracy: 1.0000 - val_loss: 0.1659 - val_accuracy: 0.9806\n",
      "Epoch 99/100\n",
      "500/500 [==============================] - 1s 3ms/step - loss: 3.8266e-06 - accuracy: 1.0000 - val_loss: 0.1676 - val_accuracy: 0.9806\n",
      "Epoch 100/100\n",
      "500/500 [==============================] - 1s 3ms/step - loss: 3.1192e-06 - accuracy: 1.0000 - val_loss: 0.1685 - val_accuracy: 0.9807\n"
     ]
    }
   ],
   "source": [
    "from tensorflow import keras\n",
    "\n",
    "print(tf.__version__)\n",
    "print(keras.__version__)\n",
    "\n",
    "from tensorflow.keras.models import Sequential\n",
    "from tensorflow.keras.layers import Dense, Dropout\n",
    "from tensorflow.keras.optimizers import RMSprop\n",
    "\n",
    "batch_size = 100\n",
    "num_classes = 10\n",
    "epochs = 100\n",
    "\n",
    "print(X_train.shape[0], 'train samples')\n",
    "print(X_test.shape[0], 'test samples')\n",
    "\n",
    "## convert class vectors to binary class matrices\n",
    "y_train_c = keras.utils.to_categorical(y_train, num_classes)\n",
    "y_val_c = keras.utils.to_categorical(y_val, num_classes)\n",
    "y_test_c = keras.utils.to_categorical(y_test, num_classes)\n",
    "\n",
    "model = Sequential()\n",
    "model.add(Dense(200, activation='relu', input_shape=(784,)))\n",
    "model.add(Dense( 50, activation='relu'))\n",
    "model.add(Dense(num_classes, activation='softmax'))\n",
    "\n",
    "model.summary()\n",
    "\n",
    "model.compile(loss='categorical_crossentropy',\n",
    "              optimizer='adam',\n",
    "              metrics=['accuracy'])\n",
    "\n",
    "history = model.fit(X_train, y_train_c,\n",
    "                    batch_size=batch_size,\n",
    "                    epochs=epochs,\n",
    "                    verbose=1,\n",
    "                    validation_data=(X_val, y_val_c))"
   ]
  },
  {
   "cell_type": "code",
   "execution_count": 12,
   "metadata": {},
   "outputs": [
    {
     "name": "stdout",
     "output_type": "stream",
     "text": [
      "Test loss: 0.17072461545467377\n",
      "Test accuracy: 0.9807000160217285\n"
     ]
    }
   ],
   "source": [
    "score = model.evaluate(X_test, y_test_c, verbose=0)\n",
    "print('Test loss:', score[0])\n",
    "print('Test accuracy:', score[1])\n",
    "\n"
   ]
  },
  {
   "cell_type": "markdown",
   "metadata": {},
   "source": [
    "You should see the training going through the epochs and in the end the trained network is evaluated on the test set. \n",
    "It shoud reach at least a classification accurary of 97% on the test set."
   ]
  },
  {
   "cell_type": "markdown",
   "metadata": {},
   "source": [
    "### Exercise\n",
    "\n",
    "Now try to tune the hyper-parameters of the MLP to achieve more than 98% accuracy on the test set.\\\n",
    "List the parameters you changed to achieve this score.\n",
    "\n",
    "Bei den Layergrösen: 200;50 erhält man eine klasifikations genauigkeit von 98%\n"
   ]
  },
  {
   "cell_type": "code",
   "execution_count": null,
   "metadata": {},
   "outputs": [],
   "source": []
  }
 ],
 "metadata": {
  "kernelspec": {
   "display_name": "Python 3 (ipykernel)",
   "language": "python",
   "name": "python3"
  },
  "language_info": {
   "codemirror_mode": {
    "name": "ipython",
    "version": 3
   },
   "file_extension": ".py",
   "mimetype": "text/x-python",
   "name": "python",
   "nbconvert_exporter": "python",
   "pygments_lexer": "ipython3",
   "version": "3.9.7"
  }
 },
 "nbformat": 4,
 "nbformat_minor": 2
}
