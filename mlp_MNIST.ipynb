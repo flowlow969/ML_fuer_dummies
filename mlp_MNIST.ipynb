{
 "cells": [
  {
   "cell_type": "markdown",
   "metadata": {},
   "source": [
    "# ANN Intro\n",
    "\n",
    "This NB is constructed such that it also runs in reasonable time on Laptop CPUs (e.g. an i3)"
   ]
  },
  {
   "cell_type": "markdown",
   "metadata": {},
   "source": [
    "## Local Setup\n",
    "\n",
    "There are different options to set up the TensorFlow library (which now includes [Keras](https://keras.io) as backend library) on your own computer. The simplest of them is using only the CPU and can be installed in 1 command via [`conda`](https://docs.anaconda.com/anaconda/user-guide/tasks/tensorflow/), in an anaconda shell run:\n",
    "\n",
    "```\n",
    "conda install tensorflow\n",
    "```\n",
    "\n",
    "**NOTE**: TF migth not be compatible with your current environment, so here we create a [new environment](https://conda.io/docs/user-guide/tasks/manage-environments.html#creating-an-environment-with-commands) first:\n",
    "\n",
    "```\n",
    "conda create -n tf tensorflow\n",
    "conda activate tf\n",
    "```\n",
    "\n",
    "In that case you need to install jupyter, scikit-learn, matplotlib, numpy and pandas in that environment again, with e.g.:\n",
    "\n",
    "```\n",
    "conda install jupyter scikit-learn matplotlib numpy pandas\n",
    "```\n",
    "\n",
    "(If you have a [supported Nvidia graphics card](https://developer.nvidia.com/cuda-gpus) in your machine and would like to use it for accelerated network training, make sure to follow [this guide](https://www.tensorflow.org/install/gpu) to install required packages and finally use the `tensorflow-gpu` library.)\n",
    "\n",
    "The usage of the TensorFlow library in Python will be the same for CPU and GPU."
   ]
  },
  {
   "cell_type": "code",
   "execution_count": 2,
   "metadata": {},
   "outputs": [
    {
     "data": {
      "text/plain": [
       "dict_keys(['data', 'target', 'frame', 'categories', 'feature_names', 'target_names', 'DESCR', 'details', 'url'])"
      ]
     },
     "execution_count": 2,
     "metadata": {},
     "output_type": "execute_result"
    }
   ],
   "source": [
    "from sklearn.datasets import fetch_openml\n",
    "mnist = fetch_openml('mnist_784', version=1)\n",
    "mnist.keys()\n"
   ]
  },
  {
   "cell_type": "code",
   "execution_count": 3,
   "metadata": {},
   "outputs": [
    {
     "data": {
      "text/plain": [
       "(70000, 784)"
      ]
     },
     "execution_count": 3,
     "metadata": {},
     "output_type": "execute_result"
    }
   ],
   "source": [
    "## Scale the input data into the range [0, 1]\n",
    "X= mnist.data\n",
    "X= X / 255.0\n",
    "y= mnist.target\n",
    "## use sklearn's train_test_split to split the data into \n",
    "## 50000 instances for training (X_train, y_train), 10000 for validation (X_val, y_val) and 10000 for testing (X_test, y_test)\n",
    "from sklearn.model_selection import train_test_split\n",
    "test_val_size = 2/7\n",
    "test_size = 1/2\n",
    "X_train, X_test_val, y_train, y_test_val = train_test_split(X, y, test_size=test_val_size, random_state=42)\n",
    "X_val, X_test, y_val, y_test = train_test_split(X_test_val, y_test_val, test_size=test_size, random_state=42)\n",
    "\n",
    "X.shape"
   ]
  },
  {
   "cell_type": "code",
   "execution_count": 4,
   "metadata": {},
   "outputs": [
    {
     "name": "stdout",
     "output_type": "stream",
     "text": [
      "Size of hiden Layers: (100,)\n",
      "Runtime: 65.91 seconds\n",
      "Size of hiden Layers: (100,), Number of Hidenlayers: 1, Number of output neurons: 10\n"
     ]
    }
   ],
   "source": [
    "## load an MLP classifier from sklearn with all its defaults, only specifying `random_state=42`\n",
    "from sklearn.neural_network import MLPClassifier\n",
    "import timeit\n",
    "\n",
    "clf = MLPClassifier(random_state=42)\n",
    "\n",
    "## try printing out the sizes of the hidden layers, the number of layers and the number of output neurons/units\n",
    "print(\"Size of hiden Layers: \" + str(clf.hidden_layer_sizes))\n",
    "##print(\"Number of Hidenlayers: \" + str(clf.n_layers_-2) + \", Number of output neurons: \" + str(clf.n_outputs_))\n",
    "\n",
    "## train the MLP with the train set, time its execution\n",
    "start = timeit.default_timer()\n",
    "clf_trained = clf.fit(X_train, y_train)\n",
    "stop = timeit.default_timer()\n",
    "print(\"Runtime: {:.2f}\" .format(stop-start), \"seconds\")\n",
    "clf.predict_proba(X_test[:1])\n",
    "\n",
    "\n",
    "## try again printing out the sizes of the hidden layers, the number of layers and the number of output neurons/units\n",
    "print(\"Size of hiden Layers: \" + str(clf.hidden_layer_sizes) + \", Number of Hidenlayers: \" + str(clf.n_layers_-2) + \", Number of output neurons: \" + str(clf.n_outputs_))\n",
    "\n"
   ]
  },
  {
   "cell_type": "code",
   "execution_count": 5,
   "metadata": {},
   "outputs": [
    {
     "name": "stdout",
     "output_type": "stream",
     "text": [
      "Training set score: 1.000000\n",
      "Test set score: 0.976100\n"
     ]
    }
   ],
   "source": [
    "\n",
    "## print the scores of the trained MLP on the train and on the test set:\n",
    "print(\"Training set score: %f\" % clf.score(X_train, y_train) )\n",
    "print(\"Test set score: %f\" % clf.score(X_test, y_test))"
   ]
  },
  {
   "cell_type": "markdown",
   "metadata": {},
   "source": [
    "### Questions 1\n",
    "\n",
    "1. What are the default values assumed for the MLPClassifier of sklearn?\n",
    "2. What MLP is constructed with the defaults? \\\n",
    "   I.e. how many hidden layers and how many input, hidden and output neurons/units does the MLP have?\n",
    "\n",
    "### Answers\n",
    "\n",
    "1. \n",
    "    - hidden_layer_sizestuple, length = n_layers - 2, default=(100,)\n",
    "    - len(clf.coefs_)\n",
    "    - solver{‘lbfgs’, ‘sgd’, ‘adam’}, default=’adam’\n",
    "    - alphafloat, default=0.0001\n",
    "    - batch_sizeint, default=’auto’\n",
    "    - learning_rate{‘constant’, ‘invscaling’, ‘adaptive’}, default=’constant’\n",
    "    - learning_rate_initdouble, default=0.001\n",
    "    - power_tdouble, default=0.5\n",
    "    - max_iterint, default=200\n",
    "    - shufflebool, default=True\n",
    "    - random_stateint, RandomState instance, default=None\n",
    "    - tolfloat, default=1e-4verbosebool, default=False\n",
    "    - momentumfloat, default=0.9\n",
    "    - early_stoppingbool, default=False\n",
    "    - validation_fractionfloat, default=0.1\n",
    "    - beta_1float, default=0.9\n",
    "    - beta_2float, default=0.999\n",
    "    - epsilonfloat, default=1e-8\n",
    "    - n_iter_no_changeint, default=10\n",
    "    - max_funint, default=15000\n",
    "2. A default MLP in sklearn conisist:\n",
    "   - 1 Inputlayer (size depents on input)\n",
    "   - 1 Hidenlayer (size 100)\n",
    "   - 1 Outputlayer (size depents on the input)\n",
    "   \n",
    "   "
   ]
  },
  {
   "cell_type": "code",
   "execution_count": 7,
   "metadata": {
    "scrolled": true
   },
   "outputs": [
    {
     "name": "stdout",
     "output_type": "stream",
     "text": [
      "Number of Layers: 4, Number of Hidenlayers: 2, Number of output neurons: 10\n"
     ]
    },
    {
     "data": {
      "text/plain": [
       "array([[8.59856198e-14, 1.77106890e-15, 2.83380745e-13, 1.77307736e-16,\n",
       "        2.59506297e-16, 3.00159860e-10, 5.28521229e-19, 8.29700347e-14,\n",
       "        1.00000000e+00, 1.09165300e-16]])"
      ]
     },
     "execution_count": 7,
     "metadata": {},
     "output_type": "execute_result"
    }
   ],
   "source": [
    "## Now construct another MLP classifier as above but with 2 hidden layers of 100 and 50 neurons/units.\n",
    "## In addition it should used mini-batch gradient descent (mBGD) with a mini-batch size of 100\n",
    "## and train only for 100 epochs.\n",
    "## Read the docs carefully to figure out what you need to specify!\n",
    "clf = MLPClassifier(hidden_layer_sizes=(100, 50),random_state=42, batch_size=min(100,50000),max_iter=100)\n",
    "\n",
    "## try printing out the sizes of the hidden layers, the number of layers and the number of output neurons/units\n",
    "## train the MLP with the train set, time its execution\n",
    "clf_trained = clf.fit(X_train, y_train)\n",
    "## try again printing out the sizes of the hidden layers, the number of layers and the number of output neurons/units\n",
    "print(\"Number of Layers: \" + str(clf_trained.n_layers_) + \", Number of Hidenlayers: \" + str(clf_trained.n_layers_-2) + \", Number of output neurons: \" + str(clf_trained.n_outputs_))\n",
    "clf_trained.predict_proba(X_test[:1])"
   ]
  },
  {
   "cell_type": "code",
   "execution_count": 8,
   "metadata": {},
   "outputs": [
    {
     "name": "stdout",
     "output_type": "stream",
     "text": [
      "Training set score: 1.000000\n",
      "Test set score: 0.978200\n"
     ]
    }
   ],
   "source": [
    "## print the scores of the trained MLP on the train and on the test set:\n",
    "print(\"Training set score: %f\" % clf.score(X_train, y_train) )\n",
    "print(\"Test set score: %f\" % clf.score(X_test, y_test))"
   ]
  },
  {
   "cell_type": "code",
   "execution_count": 7,
   "metadata": {},
   "outputs": [
    {
     "data": {
      "text/plain": [
       "84060"
      ]
     },
     "execution_count": 7,
     "metadata": {},
     "output_type": "execute_result"
    }
   ],
   "source": [
    "def n_params(model): # from: https://stackoverflow.com/questions/59078110/way-to-count-the-number-of-parameters-in-a-scikit-learn-model\n",
    "    \"\"\"Return total number of parameters in a \n",
    "    Scikit-Learn model.\n",
    "\n",
    "    This works for the following model types:\n",
    "     - sklearn.neural_network.MLPClassifier\n",
    "     - sklearn.neural_network.MLPRegressor\n",
    "     - sklearn.linear_model.LinearRegression\n",
    "     - and maybe some others\n",
    "    \"\"\"\n",
    "    return (sum([a.size for a in model.coefs_]) +  \n",
    "            sum([a.size for a in model.intercepts_]))\n",
    "\n",
    "## use the given function to get the number of model parameters of the last MLP\n",
    "n_params(clf)\n"
   ]
  },
  {
   "cell_type": "markdown",
   "metadata": {},
   "source": [
    "### Questions 2\n",
    "\n",
    "1. Does the returned number of parameters match your expectations? Write down your own calculation!\n",
    "\n",
    "\n",
    "### Answers\n",
    "\n",
    "1. \n",
    "   - Inputlayer  784 neuronen\n",
    "   - Hidenlayer1 100 neuronen\n",
    "   - Hidenlayer2  50 neuronen\n",
    "   - Outputlayer  10 neuronen\n",
    "   \n",
    "   n_params = Inputlayer * Hidenlayer1 + Hidenlayer1 * Hidenlayer2 + Hidenlayer2 * Outputlayer + Hidenlayer1 + Hidenlayer2 + Outputlayer\n",
    "   \n",
    "   n_params = 784 * 100 + 100 * 50 + 50 * 10 + 100 + 50 + 10 = 84060\n",
    "   "
   ]
  },
  {
   "cell_type": "code",
   "execution_count": 9,
   "metadata": {},
   "outputs": [
    {
     "name": "stdout",
     "output_type": "stream",
     "text": [
      "Training set score: 1.000000\n",
      "Test set score: 0.978200\n"
     ]
    }
   ],
   "source": [
    "## Now use the example from: https://scikit-learn.org/stable/auto_examples/neural_networks/plot_mnist_filters.html\n",
    "## to plot ALL weight matrices of the first layer of the MLP trained above\n",
    "## using subplots with 20 columns.\n",
    "import warnings\n",
    "from sklearn.exceptions import ConvergenceWarning\n",
    "import matplotlib.pyplot as plt\n",
    "\n",
    "with warnings.catch_warnings():\n",
    "    warnings.filterwarnings(\"ignore\", category=ConvergenceWarning, module=\"sklearn\")\n",
    "    clf.fit(X_train, y_train)\n",
    "\n",
    "print(\"Training set score: %f\" % clf.score(X_train, y_train))\n",
    "print(\"Test set score: %f\" % clf.score(X_test, y_test))\n",
    "\n",
    "\n",
    "\n",
    "\n"
   ]
  },
  {
   "cell_type": "code",
   "execution_count": 11,
   "metadata": {},
   "outputs": [
    {
     "data": {
      "image/png": "[encoded data removed]",
      "text/plain": [
       "<Figure size 432x288 with 100 Axes>"
      ]
     },
     "metadata": {},
     "output_type": "display_data"
    }
   ],
   "source": [
    "fig, axes = plt.subplots(5, 20)\n",
    "# use global min / max to ensure all weights are shown on the same scale\n",
    "vmin, vmax = clf.coefs_[0].min(), clf.coefs_[0].max()\n",
    "for coef, ax in zip(clf.coefs_[0].T, axes.ravel()):\n",
    "    ax.matshow(coef.reshape(28, 28), cmap=plt.cm.gray, vmin=0.5 * vmin, vmax=0.5 * vmax)\n",
    "    ax.set_xticks(())\n",
    "    ax.set_yticks(())\n",
    "\n",
    "plt.show()"
   ]
  },
  {
   "cell_type": "markdown",
   "metadata": {},
   "source": [
    "Now it's time to test your TensorFlow installation by importing the package. The following code cell should execute without errors:"
   ]
  },
  {
   "cell_type": "code",
   "execution_count": 9,
   "metadata": {},
   "outputs": [],
   "source": [
    "import tensorflow as tf"
   ]
  },
  {
   "cell_type": "markdown",
   "metadata": {},
   "source": [
    "Now let's check which computing devices TensorFlow has found on this machine. If you don't have the GPU setup on your computer, the list should just contain one CPU: `/device:CPU:0` "
   ]
  },
  {
   "cell_type": "code",
   "execution_count": 10,
   "metadata": {},
   "outputs": [
    {
     "name": "stdout",
     "output_type": "stream",
     "text": [
      "[name: \"/device:CPU:0\"\n",
      "device_type: \"CPU\"\n",
      "memory_limit: 268435456\n",
      "locality {\n",
      "}\n",
      "incarnation: 17178719884721810420\n",
      "xla_global_id: -1\n",
      "]\n"
     ]
    },
    {
     "name": "stderr",
     "output_type": "stream",
     "text": [
      "2022-01-13 20:26:13.568154: I tensorflow/core/platform/cpu_feature_guard.cc:151] This TensorFlow binary is optimized with oneAPI Deep Neural Network Library (oneDNN) to use the following CPU instructions in performance-critical operations:  AVX2 FMA\n",
      "To enable them in other operations, rebuild TensorFlow with the appropriate compiler flags.\n"
     ]
    }
   ],
   "source": [
    "from tensorflow.python.client import device_lib\n",
    "print(device_lib.list_local_devices())"
   ]
  },
  {
   "cell_type": "markdown",
   "metadata": {},
   "source": [
    "The cell below creates a similar MLP as above using tf.keras, see also this [tutorial network](https://github.com/keras-team/keras/blob/fcc0bfa354c5a47625d681d0297a66ef9ff43a9e/examples/mnist_mlp.py) which also uses the MNIST dataset.\n",
    "\n",
    "Keras has a nice method `model.summary()` that prints a tabular overview of your network architecture, together with the input/output dimensions and number of parameters for each layer."
   ]
  },
  {
   "cell_type": "code",
   "execution_count": 11,
   "metadata": {},
   "outputs": [
    {
     "name": "stdout",
     "output_type": "stream",
     "text": [
      "2.7.0\n",
      "2.7.0\n",
      "50000 train samples\n",
      "10000 test samples\n",
      "Model: \"sequential\"\n",
      "_________________________________________________________________\n",
      " Layer (type)                Output Shape              Param #   \n",
      "=================================================================\n",
      " dense (Dense)               (None, 200)               157000    \n",
      "                                                                 \n",
      " dense_1 (Dense)             (None, 50)                10050     \n",
      "                                                                 \n",
      " dense_2 (Dense)             (None, 10)                510       \n",
      "                                                                 \n",
      "=================================================================\n",
      "Total params: 167,560\n",
      "Trainable params: 167,560\n",
      "Non-trainable params: 0\n",
      "_________________________________________________________________\n",
      "Epoch 1/100\n",
      "500/500 [==============================] - 2s 2ms/step - loss: 0.3195 - accuracy: 0.9051 - val_loss: 0.1696 - val_accuracy: 0.9492\n",
      "Epoch 2/100\n",
      "500/500 [==============================] - 1s 2ms/step - loss: 0.1203 - accuracy: 0.9639 - val_loss: 0.1293 - val_accuracy: 0.9620\n",
      "Epoch 3/100\n",
      "500/500 [==============================] - 1s 2ms/step - loss: 0.0788 - accuracy: 0.9759 - val_loss: 0.1064 - val_accuracy: 0.9672\n",
      "Epoch 4/100\n",
      "500/500 [==============================] - 1s 2ms/step - loss: 0.0581 - accuracy: 0.9821 - val_loss: 0.0850 - val_accuracy: 0.9741\n",
      "Epoch 5/100\n",
      "500/500 [==============================] - 1s 2ms/step - loss: 0.0435 - accuracy: 0.9861 - val_loss: 0.1275 - val_accuracy: 0.9615\n",
      "Epoch 6/100\n",
      "500/500 [==============================] - 1s 2ms/step - loss: 0.0339 - accuracy: 0.9891 - val_loss: 0.0821 - val_accuracy: 0.9762\n",
      "Epoch 7/100\n",
      "500/500 [==============================] - 1s 2ms/step - loss: 0.0266 - accuracy: 0.9924 - val_loss: 0.0786 - val_accuracy: 0.9772\n",
      "Epoch 8/100\n",
      "500/500 [==============================] - 1s 2ms/step - loss: 0.0211 - accuracy: 0.9932 - val_loss: 0.0816 - val_accuracy: 0.9766\n",
      "Epoch 9/100\n",
      "500/500 [==============================] - 1s 2ms/step - loss: 0.0177 - accuracy: 0.9945 - val_loss: 0.0862 - val_accuracy: 0.9756\n",
      "Epoch 10/100\n",
      "500/500 [==============================] - 1s 2ms/step - loss: 0.0130 - accuracy: 0.9962 - val_loss: 0.0942 - val_accuracy: 0.9762\n",
      "Epoch 11/100\n",
      "500/500 [==============================] - 1s 2ms/step - loss: 0.0133 - accuracy: 0.9956 - val_loss: 0.0912 - val_accuracy: 0.9753\n",
      "Epoch 12/100\n",
      "500/500 [==============================] - 1s 2ms/step - loss: 0.0111 - accuracy: 0.9966 - val_loss: 0.0894 - val_accuracy: 0.9782\n",
      "Epoch 13/100\n",
      "500/500 [==============================] - 1s 2ms/step - loss: 0.0120 - accuracy: 0.9961 - val_loss: 0.0865 - val_accuracy: 0.9783\n",
      "Epoch 14/100\n",
      "500/500 [==============================] - 1s 2ms/step - loss: 0.0087 - accuracy: 0.9974 - val_loss: 0.0956 - val_accuracy: 0.9767\n",
      "Epoch 15/100\n",
      "500/500 [==============================] - 1s 2ms/step - loss: 0.0088 - accuracy: 0.9970 - val_loss: 0.1134 - val_accuracy: 0.9758\n",
      "Epoch 16/100\n",
      "500/500 [==============================] - 1s 2ms/step - loss: 0.0099 - accuracy: 0.9966 - val_loss: 0.0954 - val_accuracy: 0.9776\n",
      "Epoch 17/100\n",
      "500/500 [==============================] - 1s 3ms/step - loss: 0.0051 - accuracy: 0.9984 - val_loss: 0.1170 - val_accuracy: 0.9762\n",
      "Epoch 18/100\n",
      "500/500 [==============================] - 1s 2ms/step - loss: 0.0074 - accuracy: 0.9975 - val_loss: 0.1263 - val_accuracy: 0.9729\n",
      "Epoch 19/100\n",
      "500/500 [==============================] - 1s 2ms/step - loss: 0.0076 - accuracy: 0.9976 - val_loss: 0.1072 - val_accuracy: 0.9784\n",
      "Epoch 20/100\n",
      "500/500 [==============================] - 1s 2ms/step - loss: 0.0066 - accuracy: 0.9979 - val_loss: 0.1083 - val_accuracy: 0.9768\n",
      "Epoch 21/100\n",
      "500/500 [==============================] - 1s 2ms/step - loss: 0.0079 - accuracy: 0.9975 - val_loss: 0.1034 - val_accuracy: 0.9793\n",
      "Epoch 22/100\n",
      "500/500 [==============================] - 1s 2ms/step - loss: 0.0069 - accuracy: 0.9977 - val_loss: 0.1061 - val_accuracy: 0.9765\n",
      "Epoch 23/100\n",
      "500/500 [==============================] - 1s 2ms/step - loss: 0.0033 - accuracy: 0.9990 - val_loss: 0.1045 - val_accuracy: 0.9789\n",
      "Epoch 24/100\n",
      "500/500 [==============================] - 1s 2ms/step - loss: 0.0047 - accuracy: 0.9984 - val_loss: 0.1276 - val_accuracy: 0.9764\n",
      "Epoch 25/100\n",
      "500/500 [==============================] - 1s 2ms/step - loss: 0.0084 - accuracy: 0.9971 - val_loss: 0.1237 - val_accuracy: 0.9766\n",
      "Epoch 26/100\n",
      "500/500 [==============================] - 1s 2ms/step - loss: 0.0038 - accuracy: 0.9989 - val_loss: 0.1129 - val_accuracy: 0.9802\n",
      "Epoch 27/100\n",
      "500/500 [==============================] - 1s 2ms/step - loss: 0.0012 - accuracy: 0.9998 - val_loss: 0.1113 - val_accuracy: 0.9803\n",
      "Epoch 28/100\n",
      "500/500 [==============================] - 1s 2ms/step - loss: 8.3999e-04 - accuracy: 0.9998 - val_loss: 0.1284 - val_accuracy: 0.9763\n",
      "Epoch 29/100\n",
      "500/500 [==============================] - 1s 2ms/step - loss: 0.0112 - accuracy: 0.9964 - val_loss: 0.1301 - val_accuracy: 0.9752\n",
      "Epoch 30/100\n",
      "500/500 [==============================] - 1s 2ms/step - loss: 0.0098 - accuracy: 0.9967 - val_loss: 0.1499 - val_accuracy: 0.9738\n",
      "Epoch 31/100\n",
      "500/500 [==============================] - 1s 2ms/step - loss: 0.0021 - accuracy: 0.9994 - val_loss: 0.1048 - val_accuracy: 0.9805\n",
      "Epoch 32/100\n",
      "500/500 [==============================] - 1s 2ms/step - loss: 0.0022 - accuracy: 0.9992 - val_loss: 0.1333 - val_accuracy: 0.9780\n",
      "Epoch 33/100\n",
      "500/500 [==============================] - 1s 2ms/step - loss: 0.0041 - accuracy: 0.9988 - val_loss: 0.1509 - val_accuracy: 0.9751\n",
      "Epoch 34/100\n",
      "500/500 [==============================] - 1s 2ms/step - loss: 0.0076 - accuracy: 0.9976 - val_loss: 0.1482 - val_accuracy: 0.9761\n",
      "Epoch 35/100\n",
      "500/500 [==============================] - 1s 2ms/step - loss: 0.0046 - accuracy: 0.9985 - val_loss: 0.1303 - val_accuracy: 0.9770\n",
      "Epoch 36/100\n",
      "500/500 [==============================] - 1s 2ms/step - loss: 0.0024 - accuracy: 0.9992 - val_loss: 0.1349 - val_accuracy: 0.9775\n",
      "Epoch 37/100\n",
      "500/500 [==============================] - 1s 3ms/step - loss: 0.0031 - accuracy: 0.9991 - val_loss: 0.1374 - val_accuracy: 0.9766\n",
      "Epoch 38/100\n",
      "500/500 [==============================] - 1s 2ms/step - loss: 0.0054 - accuracy: 0.9981 - val_loss: 0.1265 - val_accuracy: 0.9782\n",
      "Epoch 39/100\n",
      "500/500 [==============================] - 1s 2ms/step - loss: 0.0039 - accuracy: 0.9989 - val_loss: 0.1263 - val_accuracy: 0.9784\n",
      "Epoch 40/100\n",
      "500/500 [==============================] - 1s 2ms/step - loss: 2.2176e-04 - accuracy: 1.0000 - val_loss: 0.1255 - val_accuracy: 0.9790\n",
      "Epoch 41/100\n",
      "500/500 [==============================] - 1s 3ms/step - loss: 5.5369e-05 - accuracy: 1.0000 - val_loss: 0.1238 - val_accuracy: 0.9806\n",
      "Epoch 42/100\n",
      "500/500 [==============================] - 1s 2ms/step - loss: 3.4114e-05 - accuracy: 1.0000 - val_loss: 0.1242 - val_accuracy: 0.9804\n",
      "Epoch 43/100\n",
      "500/500 [==============================] - 1s 2ms/step - loss: 2.6512e-05 - accuracy: 1.0000 - val_loss: 0.1252 - val_accuracy: 0.9807\n",
      "Epoch 44/100\n",
      "500/500 [==============================] - 1s 2ms/step - loss: 2.1706e-05 - accuracy: 1.0000 - val_loss: 0.1260 - val_accuracy: 0.9808\n",
      "Epoch 45/100\n",
      "500/500 [==============================] - 1s 2ms/step - loss: 1.7757e-05 - accuracy: 1.0000 - val_loss: 0.1273 - val_accuracy: 0.9808\n",
      "Epoch 46/100\n",
      "500/500 [==============================] - 1s 2ms/step - loss: 1.4660e-05 - accuracy: 1.0000 - val_loss: 0.1277 - val_accuracy: 0.9812\n",
      "Epoch 47/100\n",
      "500/500 [==============================] - 1s 2ms/step - loss: 1.2176e-05 - accuracy: 1.0000 - val_loss: 0.1289 - val_accuracy: 0.9811\n",
      "Epoch 48/100\n",
      "500/500 [==============================] - 1s 2ms/step - loss: 9.9889e-06 - accuracy: 1.0000 - val_loss: 0.1300 - val_accuracy: 0.9810\n",
      "Epoch 49/100\n",
      "500/500 [==============================] - 1s 2ms/step - loss: 8.1994e-06 - accuracy: 1.0000 - val_loss: 0.1311 - val_accuracy: 0.9810\n",
      "Epoch 50/100\n",
      "500/500 [==============================] - 1s 2ms/step - loss: 6.7380e-06 - accuracy: 1.0000 - val_loss: 0.1331 - val_accuracy: 0.9812\n",
      "Epoch 51/100\n"
     ]
    },
    {
     "name": "stdout",
     "output_type": "stream",
     "text": [
      "500/500 [==============================] - 1s 2ms/step - loss: 5.6165e-06 - accuracy: 1.0000 - val_loss: 0.1342 - val_accuracy: 0.9813\n",
      "Epoch 52/100\n",
      "500/500 [==============================] - 1s 2ms/step - loss: 4.5253e-06 - accuracy: 1.0000 - val_loss: 0.1355 - val_accuracy: 0.9813\n",
      "Epoch 53/100\n",
      "500/500 [==============================] - 1s 2ms/step - loss: 3.7538e-06 - accuracy: 1.0000 - val_loss: 0.1365 - val_accuracy: 0.9814\n",
      "Epoch 54/100\n",
      "500/500 [==============================] - 1s 2ms/step - loss: 3.0995e-06 - accuracy: 1.0000 - val_loss: 0.1377 - val_accuracy: 0.9815\n",
      "Epoch 55/100\n",
      "500/500 [==============================] - 1s 2ms/step - loss: 2.5097e-06 - accuracy: 1.0000 - val_loss: 0.1390 - val_accuracy: 0.9814\n",
      "Epoch 56/100\n",
      "500/500 [==============================] - 1s 2ms/step - loss: 2.0360e-06 - accuracy: 1.0000 - val_loss: 0.1413 - val_accuracy: 0.9816\n",
      "Epoch 57/100\n",
      "500/500 [==============================] - 1s 2ms/step - loss: 1.6728e-06 - accuracy: 1.0000 - val_loss: 0.1426 - val_accuracy: 0.9813\n",
      "Epoch 58/100\n",
      "500/500 [==============================] - 1s 3ms/step - loss: 1.3302e-06 - accuracy: 1.0000 - val_loss: 0.1440 - val_accuracy: 0.9812\n",
      "Epoch 59/100\n",
      "500/500 [==============================] - 1s 2ms/step - loss: 1.0741e-06 - accuracy: 1.0000 - val_loss: 0.1468 - val_accuracy: 0.9809\n",
      "Epoch 60/100\n",
      "500/500 [==============================] - 1s 2ms/step - loss: 8.8093e-07 - accuracy: 1.0000 - val_loss: 0.1475 - val_accuracy: 0.9807\n",
      "Epoch 61/100\n",
      "500/500 [==============================] - 1s 2ms/step - loss: 6.9527e-07 - accuracy: 1.0000 - val_loss: 0.1495 - val_accuracy: 0.9807\n",
      "Epoch 62/100\n",
      "500/500 [==============================] - 1s 2ms/step - loss: 5.6108e-07 - accuracy: 1.0000 - val_loss: 0.1498 - val_accuracy: 0.9807\n",
      "Epoch 63/100\n",
      "500/500 [==============================] - 1s 2ms/step - loss: 5.4485e-07 - accuracy: 1.0000 - val_loss: 0.1555 - val_accuracy: 0.9812\n",
      "Epoch 64/100\n",
      "500/500 [==============================] - 1s 2ms/step - loss: 0.0258 - accuracy: 0.9935 - val_loss: 0.1491 - val_accuracy: 0.9760\n",
      "Epoch 65/100\n",
      "500/500 [==============================] - 1s 2ms/step - loss: 0.0067 - accuracy: 0.9979 - val_loss: 0.1394 - val_accuracy: 0.9768\n",
      "Epoch 66/100\n",
      "500/500 [==============================] - 1s 2ms/step - loss: 0.0024 - accuracy: 0.9993 - val_loss: 0.1330 - val_accuracy: 0.9800\n",
      "Epoch 67/100\n",
      "500/500 [==============================] - 1s 2ms/step - loss: 0.0019 - accuracy: 0.9994 - val_loss: 0.1537 - val_accuracy: 0.9774\n",
      "Epoch 68/100\n",
      "500/500 [==============================] - 1s 2ms/step - loss: 0.0032 - accuracy: 0.9990 - val_loss: 0.1616 - val_accuracy: 0.9770\n",
      "Epoch 69/100\n",
      "500/500 [==============================] - 1s 2ms/step - loss: 0.0030 - accuracy: 0.9992 - val_loss: 0.2094 - val_accuracy: 0.9720\n",
      "Epoch 70/100\n",
      "500/500 [==============================] - 1s 2ms/step - loss: 0.0056 - accuracy: 0.9982 - val_loss: 0.1486 - val_accuracy: 0.9778\n",
      "Epoch 71/100\n",
      "500/500 [==============================] - 1s 2ms/step - loss: 5.8402e-04 - accuracy: 0.9998 - val_loss: 0.1399 - val_accuracy: 0.9802\n",
      "Epoch 72/100\n",
      "500/500 [==============================] - 1s 2ms/step - loss: 0.0042 - accuracy: 0.9988 - val_loss: 0.1975 - val_accuracy: 0.9726\n",
      "Epoch 73/100\n",
      "500/500 [==============================] - 1s 2ms/step - loss: 0.0056 - accuracy: 0.9984 - val_loss: 0.1600 - val_accuracy: 0.9798\n",
      "Epoch 74/100\n",
      "500/500 [==============================] - 1s 2ms/step - loss: 0.0031 - accuracy: 0.9990 - val_loss: 0.1540 - val_accuracy: 0.9781\n",
      "Epoch 75/100\n",
      "500/500 [==============================] - 1s 2ms/step - loss: 0.0026 - accuracy: 0.9992 - val_loss: 0.1569 - val_accuracy: 0.9784\n",
      "Epoch 76/100\n",
      "500/500 [==============================] - 1s 2ms/step - loss: 0.0052 - accuracy: 0.9984 - val_loss: 0.1889 - val_accuracy: 0.9755\n",
      "Epoch 77/100\n",
      "500/500 [==============================] - 1s 3ms/step - loss: 0.0053 - accuracy: 0.9986 - val_loss: 0.1674 - val_accuracy: 0.9777\n",
      "Epoch 78/100\n",
      "500/500 [==============================] - 1s 2ms/step - loss: 0.0024 - accuracy: 0.9992 - val_loss: 0.1480 - val_accuracy: 0.9789\n",
      "Epoch 79/100\n",
      "500/500 [==============================] - 1s 2ms/step - loss: 0.0013 - accuracy: 0.9996 - val_loss: 0.1481 - val_accuracy: 0.9783\n",
      "Epoch 80/100\n",
      "500/500 [==============================] - 1s 2ms/step - loss: 0.0020 - accuracy: 0.9994 - val_loss: 0.1773 - val_accuracy: 0.9769\n",
      "Epoch 81/100\n",
      "500/500 [==============================] - 1s 2ms/step - loss: 0.0054 - accuracy: 0.9985 - val_loss: 0.1592 - val_accuracy: 0.9775\n",
      "Epoch 82/100\n",
      "500/500 [==============================] - 1s 2ms/step - loss: 0.0047 - accuracy: 0.9987 - val_loss: 0.1417 - val_accuracy: 0.9801\n",
      "Epoch 83/100\n",
      "500/500 [==============================] - 1s 2ms/step - loss: 8.9900e-04 - accuracy: 0.9997 - val_loss: 0.1434 - val_accuracy: 0.9804\n",
      "Epoch 84/100\n",
      "500/500 [==============================] - 1s 2ms/step - loss: 3.2585e-04 - accuracy: 0.9999 - val_loss: 0.1463 - val_accuracy: 0.9804\n",
      "Epoch 85/100\n",
      "500/500 [==============================] - 1s 2ms/step - loss: 0.0010 - accuracy: 0.9997 - val_loss: 0.1671 - val_accuracy: 0.9770\n",
      "Epoch 86/100\n",
      "500/500 [==============================] - 1s 2ms/step - loss: 0.0141 - accuracy: 0.9961 - val_loss: 0.1544 - val_accuracy: 0.9793\n",
      "Epoch 87/100\n",
      "500/500 [==============================] - 1s 2ms/step - loss: 0.0027 - accuracy: 0.9993 - val_loss: 0.1472 - val_accuracy: 0.9801\n",
      "Epoch 88/100\n",
      "500/500 [==============================] - 1s 2ms/step - loss: 9.4730e-04 - accuracy: 0.9997 - val_loss: 0.1420 - val_accuracy: 0.9810\n",
      "Epoch 89/100\n",
      "500/500 [==============================] - 1s 2ms/step - loss: 3.7825e-04 - accuracy: 0.9998 - val_loss: 0.1520 - val_accuracy: 0.9805\n",
      "Epoch 90/100\n",
      "500/500 [==============================] - 1s 2ms/step - loss: 0.0039 - accuracy: 0.9988 - val_loss: 0.2044 - val_accuracy: 0.9743\n",
      "Epoch 91/100\n",
      "500/500 [==============================] - 1s 1ms/step - loss: 0.0068 - accuracy: 0.9976 - val_loss: 0.1582 - val_accuracy: 0.9777\n",
      "Epoch 92/100\n",
      "500/500 [==============================] - 1s 1ms/step - loss: 8.8056e-04 - accuracy: 0.9997 - val_loss: 0.1459 - val_accuracy: 0.9807\n",
      "Epoch 93/100\n",
      "500/500 [==============================] - 1s 2ms/step - loss: 7.4339e-05 - accuracy: 1.0000 - val_loss: 0.1462 - val_accuracy: 0.9809\n",
      "Epoch 94/100\n",
      "500/500 [==============================] - 1s 2ms/step - loss: 1.7125e-05 - accuracy: 1.0000 - val_loss: 0.1455 - val_accuracy: 0.9814\n",
      "Epoch 95/100\n",
      "500/500 [==============================] - 1s 2ms/step - loss: 1.1894e-05 - accuracy: 1.0000 - val_loss: 0.1452 - val_accuracy: 0.9810\n",
      "Epoch 96/100\n",
      "500/500 [==============================] - 1s 2ms/step - loss: 9.5040e-06 - accuracy: 1.0000 - val_loss: 0.1452 - val_accuracy: 0.9812\n",
      "Epoch 97/100\n",
      "500/500 [==============================] - 1s 2ms/step - loss: 7.8001e-06 - accuracy: 1.0000 - val_loss: 0.1453 - val_accuracy: 0.9811\n",
      "Epoch 98/100\n",
      "500/500 [==============================] - 1s 2ms/step - loss: 6.4772e-06 - accuracy: 1.0000 - val_loss: 0.1456 - val_accuracy: 0.9813\n",
      "Epoch 99/100\n",
      "500/500 [==============================] - 1s 2ms/step - loss: 5.4213e-06 - accuracy: 1.0000 - val_loss: 0.1459 - val_accuracy: 0.9811\n",
      "Epoch 100/100\n",
      "500/500 [==============================] - 1s 2ms/step - loss: 4.5523e-06 - accuracy: 1.0000 - val_loss: 0.1464 - val_accuracy: 0.9810\n"
     ]
    }
   ],
   "source": [
    "from tensorflow import keras\n",
    "\n",
    "print(tf.__version__)\n",
    "print(keras.__version__)\n",
    "\n",
    "from tensorflow.keras.models import Sequential\n",
    "from tensorflow.keras.layers import Dense, Dropout\n",
    "from tensorflow.keras.optimizers import RMSprop\n",
    "\n",
    "batch_size = 100\n",
    "num_classes = 10\n",
    "epochs = 100\n",
    "\n",
    "print(X_train.shape[0], 'train samples')\n",
    "print(X_test.shape[0], 'test samples')\n",
    "\n",
    "## convert class vectors to binary class matrices\n",
    "y_train_c = keras.utils.to_categorical(y_train, num_classes)\n",
    "y_val_c = keras.utils.to_categorical(y_val, num_classes)\n",
    "y_test_c = keras.utils.to_categorical(y_test, num_classes)\n",
    "\n",
    "model = Sequential()\n",
    "model.add(Dense(200, activation='relu', input_shape=(784,)))\n",
    "model.add(Dense( 50, activation='relu'))\n",
    "model.add(Dense(num_classes, activation='softmax'))\n",
    "\n",
    "model.summary()\n",
    "\n",
    "model.compile(loss='categorical_crossentropy',\n",
    "              optimizer='adam',\n",
    "              metrics=['accuracy'])\n",
    "\n",
    "history = model.fit(X_train, y_train_c,\n",
    "                    batch_size=batch_size,\n",
    "                    epochs=epochs,\n",
    "                    verbose=1,\n",
    "                    validation_data=(X_val, y_val_c))"
   ]
  },
  {
   "cell_type": "code",
   "execution_count": 12,
   "metadata": {},
   "outputs": [
    {
     "name": "stdout",
     "output_type": "stream",
     "text": [
      "Test loss: 0.17664778232574463\n",
      "Test accuracy: 0.9817000031471252\n"
     ]
    }
   ],
   "source": [
    "score = model.evaluate(X_test, y_test_c, verbose=0)\n",
    "print('Test loss:', score[0])\n",
    "print('Test accuracy:', score[1])\n",
    "\n"
   ]
  },
  {
   "cell_type": "markdown",
   "metadata": {},
   "source": [
    "You should see the training going through the epochs and in the end the trained network is evaluated on the test set. \n",
    "It shoud reach at least a classification accurary of 97% on the test set."
   ]
  },
  {
   "cell_type": "markdown",
   "metadata": {},
   "source": [
    "### Exercise\n",
    "\n",
    "Now try to tune the hyper-parameters of the MLP to achieve more than 98% accuracy on the test set.\\\n",
    "List the parameters you changed to achieve this score.\n",
    "\n",
    "Bei den Layergrösen: 200;50 erhält man eine klasifikations genauigkeit von 98%\n"
   ]
  },
  {
   "cell_type": "code",
   "execution_count": null,
   "metadata": {},
   "outputs": [],
   "source": []
  }
 ],
 "metadata": {
  "kernelspec": {
   "display_name": "Python 3 (ipykernel)",
   "language": "python",
   "name": "python3"
  },
  "language_info": {
   "codemirror_mode": {
    "name": "ipython",
    "version": 3
   },
   "file_extension": ".py",
   "mimetype": "text/x-python",
   "name": "python",
   "nbconvert_exporter": "python",
   "pygments_lexer": "ipython3",
   "version": "3.9.7"
  }
 },
 "nbformat": 4,
 "nbformat_minor": 2
}
